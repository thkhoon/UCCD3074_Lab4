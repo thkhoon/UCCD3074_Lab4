{
 "cells": [
  {
   "cell_type": "markdown",
   "metadata": {
    "id": "tqRdQL8Z71ec"
   },
   "source": [
    "# Lab4 - (Extra) Practice with MNIST\n"
   ]
  },
  {
   "cell_type": "code",
   "execution_count": null,
   "metadata": {
    "executionInfo": {
     "elapsed": 362,
     "status": "ok",
     "timestamp": 1625622788934,
     "user": {
      "displayName": "Hung Khoon Tan",
      "photoUrl": "",
      "userId": "06538390365184440233"
     },
     "user_tz": -480
    },
    "id": "sHRkmpL4D-tQ"
   },
   "outputs": [],
   "source": [
    "import numpy as np\n",
    "import torch.nn as nn\n",
    "import torch.optim as optim\n",
    "import torch.nn.functional as F\n",
    "import torch\n",
    "import torchvision"
   ]
  },
  {
   "cell_type": "markdown",
   "metadata": {
    "id": "5p7annwTOGkJ"
   },
   "source": [
    "# 1. Load the MNIST dataset"
   ]
  },
  {
   "cell_type": "code",
   "execution_count": null,
   "metadata": {
    "executionInfo": {
     "elapsed": 39,
     "status": "ok",
     "timestamp": 1625621874492,
     "user": {
      "displayName": "Hung Khoon Tan",
      "photoUrl": "",
      "userId": "06538390365184440233"
     },
     "user_tz": -480
    },
    "id": "43FVMQz_OEpt"
   },
   "outputs": [],
   "source": [
    "train_set = torchvision.datasets.MNIST('/files/', train=True, download=True, transform=None)\n",
    "test_set = torchvision.datasets.MNIST('/files/', train=False, download=True, transform=None)"
   ]
  },
  {
   "cell_type": "markdown",
   "metadata": {
    "id": "q0NPTvNdOONZ"
   },
   "source": [
    "**Exercise**: Explore the dataset.\n",
    "\n",
    "* What is the type of the input sample in MNIST? Display an input sample"
   ]
  },
  {
   "cell_type": "code",
   "execution_count": null,
   "metadata": {
    "colab": {
     "base_uri": "https://localhost:8080/",
     "height": 61
    },
    "executionInfo": {
     "elapsed": 37,
     "status": "ok",
     "timestamp": 1625621874494,
     "user": {
      "displayName": "Hung Khoon Tan",
      "photoUrl": "",
      "userId": "06538390365184440233"
     },
     "user_tz": -480
    },
    "id": "RQEdctpEOY6F",
    "outputId": "90056929-99cc-4c62-b364-2da272e080ac"
   },
   "outputs": [],
   "source": [
    "# ... your code here ...\n",
    "print('Type of x:', # ... your code here ...)"
   ]
  },
  {
   "cell_type": "markdown",
   "metadata": {
    "id": "D51V3-9hOZb9"
   },
   "source": [
    "* What is the range of the input image? Convert the input image to numpy and get the minimum and maximum value of the PIL image. "
   ]
  },
  {
   "cell_type": "code",
   "execution_count": null,
   "metadata": {
    "colab": {
     "base_uri": "https://localhost:8080/"
    },
    "executionInfo": {
     "elapsed": 6,
     "status": "ok",
     "timestamp": 1625621889224,
     "user": {
      "displayName": "Hung Khoon Tan",
      "photoUrl": "",
      "userId": "06538390365184440233"
     },
     "user_tz": -480
    },
    "id": "G01BnPXOOpEy",
    "outputId": "50ee240d-c375-48b5-87f1-1bfaaf6a630e"
   },
   "outputs": [],
   "source": [
    "# ... your code here ...\n",
    "print('Range of img is', ...)"
   ]
  },
  {
   "cell_type": "markdown",
   "metadata": {
    "id": "9vgTSltWOqi_"
   },
   "source": [
    "* How many samples are there in the training and testing set?"
   ]
  },
  {
   "cell_type": "code",
   "execution_count": null,
   "metadata": {
    "colab": {
     "base_uri": "https://localhost:8080/"
    },
    "executionInfo": {
     "elapsed": 408,
     "status": "ok",
     "timestamp": 1625621893896,
     "user": {
      "displayName": "Hung Khoon Tan",
      "photoUrl": "",
      "userId": "06538390365184440233"
     },
     "user_tz": -480
    },
    "id": "lZsxFx67Ov0e",
    "outputId": "e816955b-e865-4db7-bc68-1801757ca070"
   },
   "outputs": [],
   "source": [
    "print(f'number of training samples:', ...)\n",
    "print(f'number of training samples:', ...)"
   ]
  },
  {
   "cell_type": "markdown",
   "metadata": {
    "id": "PSS8ABzjQRuz"
   },
   "source": [
    "* Identify the distribution of the labels in the training and testing set."
   ]
  },
  {
   "cell_type": "code",
   "execution_count": null,
   "metadata": {
    "colab": {
     "base_uri": "https://localhost:8080/"
    },
    "executionInfo": {
     "elapsed": 386,
     "status": "ok",
     "timestamp": 1625622077013,
     "user": {
      "displayName": "Hung Khoon Tan",
      "photoUrl": "",
      "userId": "06538390365184440233"
     },
     "user_tz": -480
    },
    "id": "KtaqeiWsnZU4",
    "outputId": "79bc1f88-0d6e-438e-bd48-267d59dd94da"
   },
   "outputs": [],
   "source": [
    "# ... your code here ...\n",
    "\n",
    "for i, (train_freq, test_freq) in enumerate(zip(train_class_freq, test_class_freq)):\n",
    "    print(f\"class {i:d}: trainset: {train_freq:d}, testset: {test_freq:d}\")"
   ]
  },
  {
   "cell_type": "markdown",
   "metadata": {
    "id": "mdTLLMO7Owlb"
   },
   "source": [
    "**Exercise:** Creating the data loader.\n",
    "\n",
    "* Create a transform pipeline to (1) convert the image into PyTorch tensor with shape (C, H, W) and then normalize it with the following settings: mean = 0.1307 and std = 0.3081. Then, reload the dataset with the transformation."
   ]
  },
  {
   "cell_type": "code",
   "execution_count": null,
   "metadata": {
    "executionInfo": {
     "elapsed": 384,
     "status": "ok",
     "timestamp": 1625622091935,
     "user": {
      "displayName": "Hung Khoon Tan",
      "photoUrl": "",
      "userId": "06538390365184440233"
     },
     "user_tz": -480
    },
    "id": "blFjgTZkEkzZ"
   },
   "outputs": [],
   "source": [
    "transform = # ... your code here ..."
   ]
  },
  {
   "cell_type": "code",
   "execution_count": null,
   "metadata": {
    "executionInfo": {
     "elapsed": 388,
     "status": "ok",
     "timestamp": 1625622209493,
     "user": {
      "displayName": "Hung Khoon Tan",
      "photoUrl": "",
      "userId": "06538390365184440233"
     },
     "user_tz": -480
    },
    "id": "-zxhoQ6RoTQ0"
   },
   "outputs": [],
   "source": [
    "train_set = # ... your code here ...\n",
    "test_set = # ... your code here ..."
   ]
  },
  {
   "cell_type": "markdown",
   "metadata": {
    "id": "dx35EePtoiSD"
   },
   "source": [
    "* Now, check the input tensor to ensure that it is of Pytorch tensor type, have a shape of (C, H, W) and the data is standardized"
   ]
  },
  {
   "cell_type": "code",
   "execution_count": null,
   "metadata": {
    "colab": {
     "base_uri": "https://localhost:8080/"
    },
    "executionInfo": {
     "elapsed": 621,
     "status": "ok",
     "timestamp": 1625622345642,
     "user": {
      "displayName": "Hung Khoon Tan",
      "photoUrl": "",
      "userId": "06538390365184440233"
     },
     "user_tz": -480
    },
    "id": "8nY0-YY_o2Bv",
    "outputId": "6b32cd9c-b3b4-40f7-ea26-d82a2c8ee18d"
   },
   "outputs": [],
   "source": [
    "x, y = # ... your code here ...\n",
    "print('Type of x:', ...\n",
    "print('Shape of x:', ...)\n",
    "print('Range of x:', ...)"
   ]
  },
  {
   "cell_type": "markdown",
   "metadata": {
    "id": "6RvF5BgMPJyx"
   },
   "source": [
    "* Create a data loader. Set the *batch size* to 128 and *shuffle* to true."
   ]
  },
  {
   "cell_type": "code",
   "execution_count": null,
   "metadata": {
    "executionInfo": {
     "elapsed": 468,
     "status": "ok",
     "timestamp": 1625622357486,
     "user": {
      "displayName": "Hung Khoon Tan",
      "photoUrl": "",
      "userId": "06538390365184440233"
     },
     "user_tz": -480
    },
    "id": "H__OzKRVD8I7"
   },
   "outputs": [],
   "source": [
    "train_loader = ...\n",
    "test_loader = ..."
   ]
  },
  {
   "cell_type": "markdown",
   "metadata": {
    "id": "DZfjbO-zpK6U"
   },
   "source": [
    "* Verify that shape is now (batch_size, C, H, B)"
   ]
  },
  {
   "cell_type": "code",
   "execution_count": null,
   "metadata": {
    "colab": {
     "base_uri": "https://localhost:8080/"
    },
    "executionInfo": {
     "elapsed": 397,
     "status": "ok",
     "timestamp": 1625622409816,
     "user": {
      "displayName": "Hung Khoon Tan",
      "photoUrl": "",
      "userId": "06538390365184440233"
     },
     "user_tz": -480
    },
    "id": "Ssx7DafgoJ_q",
    "outputId": "054a541c-a577-43ac-f131-64ac92f161f3"
   },
   "outputs": [],
   "source": [
    "# ... your code here ...\n",
    "print('Shape of x_batch is', x_batch.shape)"
   ]
  },
  {
   "cell_type": "markdown",
   "metadata": {
    "id": "GZny-ody71e3"
   },
   "source": [
    "---\n",
    "# 2. Building Regular Neural Network\n",
    "\n",
    "**Exercise**. Build a 2-layered neural network \n",
    "\n",
    "* Build a network to train the model\n",
    "\n",
    "| Layer| Name | Operation | Input Shape | OutputShape |\n",
    "|:--:|:--|:--- |---|---|\n",
    "|- |  | view | (?, 1, 28, 28) | (?, 784) | \n",
    "|1 | `fc1` | Linear, 50 neurons | (?, 3072)| (?, 50) |\n",
    "|  |  `relu1` | Relu  | (?, 50)| (?, 50) |\n",
    "|2 | `fc2` | Linear, 10 neurons, no activation | (?, 50)| (?, 10) |\n"
   ]
  },
  {
   "cell_type": "code",
   "execution_count": null,
   "metadata": {
    "executionInfo": {
     "elapsed": 404,
     "status": "ok",
     "timestamp": 1625622598130,
     "user": {
      "displayName": "Hung Khoon Tan",
      "photoUrl": "",
      "userId": "06538390365184440233"
     },
     "user_tz": -480
    },
    "id": "1sp1lhAbkLyp"
   },
   "outputs": [],
   "source": [
    "# ... define class Net here ..."
   ]
  },
  {
   "cell_type": "markdown",
   "metadata": {
    "id": "DXqw8qAfqGK8"
   },
   "source": [
    "* Get a batch data from `train_set` and test it on the network."
   ]
  },
  {
   "cell_type": "code",
   "execution_count": null,
   "metadata": {
    "colab": {
     "base_uri": "https://localhost:8080/"
    },
    "executionInfo": {
     "elapsed": 4,
     "status": "ok",
     "timestamp": 1625622598667,
     "user": {
      "displayName": "Hung Khoon Tan",
      "photoUrl": "",
      "userId": "06538390365184440233"
     },
     "user_tz": -480
    },
    "id": "49wxdJlV71e6",
    "outputId": "2ae41feb-1f55-48e3-f22f-262c7fcb4f04"
   },
   "outputs": [],
   "source": [
    "net = Net()\n",
    "\n",
    "X, y = next(iter(train_set))\n",
    "out = net(X)\n",
    "\n",
    "print('Shape of out:', out.shape)\n",
    "print('Out:\\n', out)"
   ]
  },
  {
   "cell_type": "markdown",
   "metadata": {
    "id": "MDMcfA8_71e9"
   },
   "source": [
    "---\n",
    "# 3. Training the model"
   ]
  },
  {
   "cell_type": "markdown",
   "metadata": {
    "id": "wBaeTweyqRgx"
   },
   "source": [
    "**Exercise**. Train the network\n",
    "\n",
    "* Create the network and transfer to GPU"
   ]
  },
  {
   "cell_type": "code",
   "execution_count": null,
   "metadata": {
    "executionInfo": {
     "elapsed": 12153,
     "status": "ok",
     "timestamp": 1625622655933,
     "user": {
      "displayName": "Hung Khoon Tan",
      "photoUrl": "",
      "userId": "06538390365184440233"
     },
     "user_tz": -480
    },
    "id": "UNwPSaol71e-"
   },
   "outputs": [],
   "source": [
    "net = ...\n",
    "# if gpu is available\n",
    "#     transfer to cude"
   ]
  },
  {
   "cell_type": "markdown",
   "metadata": {
    "id": "Q34O6MKaqg43"
   },
   "source": [
    "* Create the optimizer\n"
   ]
  },
  {
   "cell_type": "code",
   "execution_count": null,
   "metadata": {
    "executionInfo": {
     "elapsed": 433,
     "status": "ok",
     "timestamp": 1625623193586,
     "user": {
      "displayName": "Hung Khoon Tan",
      "photoUrl": "",
      "userId": "06538390365184440233"
     },
     "user_tz": -480
    },
    "id": "ysLMHaPp71e-"
   },
   "outputs": [],
   "source": [
    "optimizer = ..."
   ]
  },
  {
   "cell_type": "markdown",
   "metadata": {
    "id": "VfDfOfIfqiSg"
   },
   "source": [
    "* Create the loss "
   ]
  },
  {
   "cell_type": "code",
   "execution_count": null,
   "metadata": {
    "executionInfo": {
     "elapsed": 7,
     "status": "ok",
     "timestamp": 1625623194009,
     "user": {
      "displayName": "Hung Khoon Tan",
      "photoUrl": "",
      "userId": "06538390365184440233"
     },
     "user_tz": -480
    },
    "id": "JeV93I9h71e-"
   },
   "outputs": [],
   "source": [
    "criterion = ..."
   ]
  },
  {
   "cell_type": "markdown",
   "metadata": {
    "id": "ZijirUbeqkPf"
   },
   "source": [
    "* Set to training mode"
   ]
  },
  {
   "cell_type": "code",
   "execution_count": null,
   "metadata": {
    "colab": {
     "base_uri": "https://localhost:8080/"
    },
    "executionInfo": {
     "elapsed": 6,
     "status": "ok",
     "timestamp": 1625623194938,
     "user": {
      "displayName": "Hung Khoon Tan",
      "photoUrl": "",
      "userId": "06538390365184440233"
     },
     "user_tz": -480
    },
    "id": "8V-t2V9e71e_",
    "outputId": "2080a6a8-6750-4ca1-b5d8-a0948ae0713e",
    "scrolled": true
   },
   "outputs": [],
   "source": [
    "# ... your code here ..."
   ]
  },
  {
   "cell_type": "markdown",
   "metadata": {
    "id": "-JtIKGss71e_"
   },
   "source": [
    "* Train the model"
   ]
  },
  {
   "cell_type": "code",
   "execution_count": null,
   "metadata": {
    "colab": {
     "base_uri": "https://localhost:8080/"
    },
    "executionInfo": {
     "elapsed": 47359,
     "status": "ok",
     "timestamp": 1625623253227,
     "user": {
      "displayName": "Hung Khoon Tan",
      "photoUrl": "",
      "userId": "06538390365184440233"
     },
     "user_tz": -480
    },
    "id": "u6aOywlt71e_",
    "outputId": "c1143bb8-260d-455d-aa06-8514554f36b0"
   },
   "outputs": [],
   "source": [
    "num_epochs = 6\n",
    "loop_per_val = 50\n",
    "\n",
    "for e in range(num_epochs):\n",
    "\n",
    "    running_loss = 0\n",
    "    running_count = 0\n",
    "\n",
    "    # for i, (inputs, labels) in ...\n",
    "\n",
    "        # transfer input to GPU\n",
    "        # ... your code here ...\n",
    "\n",
    "        # set grad to zero\n",
    "        # ... your code here ...\n",
    "\n",
    "        # forward propagation\n",
    "        # ... your code here ...\n",
    "\n",
    "        # compute loss\n",
    "        # ... your code here ...\n",
    "\n",
    "        # backward propagation\n",
    "        # ... your code here ...\n",
    "\n",
    "        # update model\n",
    "        # ... your code here ...\n",
    "\n",
    "        # compute running loss and validation\n",
    "        running_loss += loss.item()\n",
    "        running_count +=1\n",
    "\n",
    "        # display the averaged loss value \n",
    "        if i % loop_per_val == loop_per_val - 1:                \n",
    "            train_loss = running_loss / loop_per_val\n",
    "            running_loss = 0. \n",
    "            running_count = 0\n",
    "            print(f'[Epoch {e+1:2d}/{num_epochs:d} Iter {i+1:5d}/{len(train_loader)}]: train_loss = {train_loss:.4f}')"
   ]
  },
  {
   "cell_type": "markdown",
   "metadata": {
    "id": "tmj056vkq3WS"
   },
   "source": [
    "# 4. Evaluate the model\n",
    "\n",
    "*Exercise*. Evaluate the model."
   ]
  },
  {
   "cell_type": "markdown",
   "metadata": {
    "id": "nf_1JT1k71fA"
   },
   "source": [
    "* Set to eval mode"
   ]
  },
  {
   "cell_type": "code",
   "execution_count": null,
   "metadata": {
    "colab": {
     "base_uri": "https://localhost:8080/"
    },
    "executionInfo": {
     "elapsed": 13,
     "status": "ok",
     "timestamp": 1625623253228,
     "user": {
      "displayName": "Hung Khoon Tan",
      "photoUrl": "",
      "userId": "06538390365184440233"
     },
     "user_tz": -480
    },
    "id": "tx78JRze71fA",
    "outputId": "b86fb727-e80e-4013-fd1a-49d29ffc11eb"
   },
   "outputs": [],
   "source": [
    "# ... your code here ..."
   ]
  },
  {
   "cell_type": "markdown",
   "metadata": {
    "id": "a0aCuYnW71fB"
   },
   "source": [
    "#### Evaluate the model\n",
    "\n",
    "Now we are ready to evaluate our model. "
   ]
  },
  {
   "cell_type": "code",
   "execution_count": null,
   "metadata": {
    "colab": {
     "base_uri": "https://localhost:8080/"
    },
    "executionInfo": {
     "elapsed": 1375,
     "status": "ok",
     "timestamp": 1625623263192,
     "user": {
      "displayName": "Hung Khoon Tan",
      "photoUrl": "",
      "userId": "06538390365184440233"
     },
     "user_tz": -480
    },
    "id": "y6TKAvQ471fB",
    "outputId": "6f843204-87c9-4274-b003-7a5cbc8e15e4"
   },
   "outputs": [],
   "source": [
    "# running_correct to accumulate number of correct predictions\n",
    "running_corrects = 0\n",
    "\n",
    "# get batch data (\"inputs\" and \"labels\") through test_loader, \n",
    "    # transfer to GPU\n",
    "    # ... your code here ...\n",
    "\n",
    "    # with ...disable gradient computation\n",
    "    \n",
    "        # forward propagation to get class scores\n",
    "        # ... your code here ...\n",
    "        \n",
    "        # get the predicted class\n",
    "        # ... your code here ...\n",
    "\n",
    "        # compute the running correct\n",
    "        # ... your code here ...\n",
    "\n",
    "accuracy = running_corrects / len(test_loader.dataset)*100\n",
    "print(f'Accuracy = {accuracy:.2f}%')"
   ]
  }
 ],
 "metadata": {
  "accelerator": "GPU",
  "colab": {
   "collapsed_sections": [],
   "name": "Extra - MNIST.ipynb",
   "provenance": []
  },
  "kernelspec": {
   "display_name": "Python 3 (ipykernel)",
   "language": "python",
   "name": "python3"
  },
  "language_info": {
   "codemirror_mode": {
    "name": "ipython",
    "version": 3
   },
   "file_extension": ".py",
   "mimetype": "text/x-python",
   "name": "python",
   "nbconvert_exporter": "python",
   "pygments_lexer": "ipython3",
   "version": "3.9.7"
  }
 },
 "nbformat": 4,
 "nbformat_minor": 1
}
